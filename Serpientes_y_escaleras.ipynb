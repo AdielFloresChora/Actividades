{
  "nbformat": 4,
  "nbformat_minor": 0,
  "metadata": {
    "colab": {
      "provenance": [],
      "authorship_tag": "ABX9TyPAtrPnoJPafxkrUvB/J8UN",
      "include_colab_link": true
    },
    "kernelspec": {
      "name": "python3",
      "display_name": "Python 3"
    },
    "language_info": {
      "name": "python"
    }
  },
  "cells": [
    {
      "cell_type": "markdown",
      "metadata": {
        "id": "view-in-github",
        "colab_type": "text"
      },
      "source": [
        "<a href=\"https://colab.research.google.com/github/AdielFloresChora/Actividades/blob/main/Serpientes_y_escaleras.ipynb\" target=\"_parent\"><img src=\"https://colab.research.google.com/assets/colab-badge.svg\" alt=\"Open In Colab\"/></a>"
      ]
    },
    {
      "cell_type": "code",
      "execution_count": 1,
      "metadata": {
        "colab": {
          "base_uri": "https://localhost:8080/"
        },
        "id": "bebhCPv_6cXC",
        "outputId": "4d36d19b-3aa6-4374-92b9-567bfe0ed2a3"
      },
      "outputs": [
        {
          "output_type": "stream",
          "name": "stdout",
          "text": [
            "El promedio de tiradas necesarias para terminar un juego de 20 casillas es: 6.356661\n"
          ]
        }
      ],
      "source": [
        "#Hallar el número de tiradas promedio para terminar un juego de serpientes y escaleras \n",
        "#Número de casillas: 20; Escalera_1: 2 a 11; Escalera_2: 15 a 19; Serpiente_1: 13 a 9; Serpiente_2: 17 a 10\n",
        "import random\n",
        "\n",
        "numero_juegos = 1_000_000\n",
        "numero_casillas = 20\n",
        "\n",
        "escalera_1 = {2: 11} \n",
        "escalera_2 = {15:19}\n",
        "serpiente_1 = {13:9} \n",
        "serpiente_2 = {17:10}\n",
        "\n",
        "total_tiradas = 0\n",
        "\n",
        "for i in range(numero_juegos):\n",
        "    posicion_actual = 0\n",
        "    tiradas = 0\n",
        "    while posicion_actual < numero_casillas:\n",
        "        tirada = random.randint(1, 6)\n",
        "        posicion_actual += tirada\n",
        "        tiradas += 1\n",
        "        if posicion_actual in escalera_1:\n",
        "            posicion_actual = escalera_1[posicion_actual]\n",
        "        elif posicion_actual in escalera_2:\n",
        "        \tposicion_actual = escalera_2[posicion_actual]\n",
        "        elif posicion_actual in serpiente_1:\n",
        "            posicion_actual = serpiente_1[posicion_actual]\n",
        "        elif posicion_actual in serpiente_2:\n",
        "        \tposicion_actual = serpiente_2[posicion_actual]\n",
        "        \n",
        "    total_tiradas += tiradas\n",
        "\n",
        "\n",
        "promedio_tiradas = total_tiradas / numero_juegos\n",
        "print(\"El promedio de tiradas necesarias para terminar un juego de\", numero_casillas, \"casillas es:\", promedio_tiradas)\n"
      ]
    }
  ]
}