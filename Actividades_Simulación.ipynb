{
  "nbformat": 4,
  "nbformat_minor": 0,
  "metadata": {
    "colab": {
      "provenance": [],
      "authorship_tag": "ABX9TyN4TwzWqwSp0bjuKE3uNYmU",
      "include_colab_link": true
    },
    "kernelspec": {
      "name": "python3",
      "display_name": "Python 3"
    },
    "language_info": {
      "name": "python"
    }
  },
  "cells": [
    {
      "cell_type": "markdown",
      "metadata": {
        "id": "view-in-github",
        "colab_type": "text"
      },
      "source": [
        "<a href=\"https://colab.research.google.com/github/AdielFloresChora/Actividades/blob/main/Actividades_Simulaci%C3%B3n.ipynb\" target=\"_parent\"><img src=\"https://colab.research.google.com/assets/colab-badge.svg\" alt=\"Open In Colab\"/></a>"
      ]
    },
    {
      "cell_type": "code",
      "execution_count": 1,
      "metadata": {
        "id": "le1aojQ7ja-V"
      },
      "outputs": [],
      "source": [
        "import random"
      ]
    },
    {
      "cell_type": "code",
      "source": [
        "#Ejercicio 1.- \n",
        "#a)Usar la función random() para simular 1 volado.\n",
        "x = random.random()\n",
        "if x > 0.5:\n",
        "    print(\"Aguila\")\n",
        "elif x < 0.5:\n",
        "    print(\"Sol\")"
      ],
      "metadata": {
        "id": "vrpIfghpjlHj"
      },
      "execution_count": null,
      "outputs": []
    },
    {
      "cell_type": "code",
      "source": [
        "#b)Usar la función random() para simular 1000 volados.\n",
        "aguila = 0\n",
        "sol = 0\n",
        "n = 1000\n",
        "for i in range(n):\n",
        "  y = random.random()\n",
        "  if y>=0.5:\n",
        "    aguila += 1\n",
        "  else:\n",
        "    sol += 1\n",
        "print(\"Aguila:\", aguila, \"\\nSol:\", sol)"
      ],
      "metadata": {
        "id": "inv0Vyndj6LC"
      },
      "execution_count": null,
      "outputs": []
    },
    {
      "cell_type": "code",
      "source": [
        "#c)Determinar de b) la probabilidad de que ocurra \"sol\" en un volado.\n",
        "print(sol/n)"
      ],
      "metadata": {
        "id": "LACm7rv4lHbk"
      },
      "execution_count": null,
      "outputs": []
    },
    {
      "cell_type": "code",
      "source": [
        "#Ejercicio 2\n",
        "#a) Simular un sorteo de los colores blanco, negro, rojo, azul y verde.\n",
        "D = ['blanco', 'negro', 'rojo', 'azul', 'verde']\n",
        "sorteo = random.randint(0, len(D)-1)\n",
        "print(D[sorteo])"
      ],
      "metadata": {
        "id": "VLLScJiLlixd"
      },
      "execution_count": null,
      "outputs": []
    },
    {
      "cell_type": "code",
      "source": [
        "#b) Simular 5 sorteos con sustitución.\n",
        "for i in range(5):\n",
        "  sorteo = random.randint(0, len(D)-1)\n",
        "  print(D[sorteo])"
      ],
      "metadata": {
        "id": "pNxrzvSkl1HX"
      },
      "execution_count": null,
      "outputs": []
    },
    {
      "cell_type": "code",
      "source": [
        "#Tarea 1 Simular el valor de pi usando la función pi\n",
        "m = 1_000_000\n",
        "dentro_circulo = 0\n",
        "\n",
        "for i in range(m):\n",
        "    x = random.random()\n",
        "    y = random.random()\n",
        "    if x**2 + y**2 <= 1:\n",
        "        dentro_circulo += 1\n",
        "\n",
        "pi_estimado = 4 * dentro_circulo / m\n",
        "print(pi_estimado)"
      ],
      "metadata": {
        "id": "8stAlhWv3QJk"
      },
      "execution_count": null,
      "outputs": []
    }
  ]
}